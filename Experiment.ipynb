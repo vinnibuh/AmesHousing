{
 "cells": [
  {
   "cell_type": "code",
   "execution_count": 25,
   "id": "bizarre-engineering",
   "metadata": {},
   "outputs": [],
   "source": [
    "import pandas as pd\n",
    "import numpy as np\n",
    "import seaborn as sns\n",
    "from tqdm.notebook import tqdm\n",
    "from sklearn.model_selection import RepeatedKFold, train_test_split\n",
    "from sklearn.linear_model import Ridge, LinearRegression, Lasso\n",
    "from sklearn.preprocessing import StandardScaler\n",
    "from sklearn.metrics import mean_squared_error, r2_score\n",
    "\n",
    "from scripts import cleansing, eda\n",
    "\n",
    "random_state=17"
   ]
  },
  {
   "cell_type": "code",
   "execution_count": 26,
   "id": "radio-quality",
   "metadata": {},
   "outputs": [],
   "source": [
    "path = './data/AmesHousing.txt'\n",
    "\n",
    "raw = pd.read_table(path, index_col=0)\n",
    "df = cleansing.data_cleaning(raw)\n",
    "\n",
    "# need to get read of this\n",
    "df = df.reset_index().iloc[:, 1:]"
   ]
  },
  {
   "cell_type": "markdown",
   "id": "boring-division",
   "metadata": {},
   "source": [
    "First of all, we need to point out one interesting thing in distribution of target variable"
   ]
  },
  {
   "cell_type": "code",
   "execution_count": 27,
   "id": "express-platinum",
   "metadata": {},
   "outputs": [
    {
     "data": {
      "image/png": "[encoded data removed]",
      "text/plain": [
       "<Figure size 432x288 with 1 Axes>"
      ]
     },
     "metadata": {
      "needs_background": "light"
     },
     "output_type": "display_data"
    }
   ],
   "source": [
    "df.SalePrice.hist();"
   ]
  },
  {
   "cell_type": "code",
   "execution_count": 54,
   "id": "separated-national",
   "metadata": {},
   "outputs": [
    {
     "data": {
      "text/plain": [
       "173      9.456341\n",
       "1503     9.480368\n",
       "2745    10.463103\n",
       "2781    10.471950\n",
       "683     10.542706\n",
       "          ...    \n",
       "1645    13.122497\n",
       "354     13.126031\n",
       "2255    13.190022\n",
       "2251    13.208952\n",
       "2253    13.229568\n",
       "Name: SalePrice, Length: 2830, dtype: float64"
      ]
     },
     "execution_count": 54,
     "metadata": {},
     "output_type": "execute_result"
    }
   ],
   "source": [
    "df.SalePrice.sort_values()"
   ]
  },
  {
   "cell_type": "markdown",
   "id": "extreme-andorra",
   "metadata": {},
   "source": [
    "As we've already said, we observe heavy tail and distribution isn't symmetrical, which isn't good for fitting. Taking this into consideration, we'll fit our model not to target variable, but to its logarithm."
   ]
  },
  {
   "cell_type": "code",
   "execution_count": 28,
   "id": "informal-fashion",
   "metadata": {},
   "outputs": [
    {
     "data": {
      "image/png": "[encoded data removed]",
      "text/plain": [
       "<Figure size 432x288 with 1 Axes>"
      ]
     },
     "metadata": {
      "needs_background": "light"
     },
     "output_type": "display_data"
    }
   ],
   "source": [
    "np.log(df.SalePrice).hist();"
   ]
  },
  {
   "cell_type": "code",
   "execution_count": 29,
   "id": "substantial-seventh",
   "metadata": {},
   "outputs": [],
   "source": [
    "df['SalePrice'] = np.log(df['SalePrice'])"
   ]
  },
  {
   "cell_type": "markdown",
   "id": "japanese-skirt",
   "metadata": {},
   "source": [
    "Let's separate validation data"
   ]
  },
  {
   "cell_type": "code",
   "execution_count": 30,
   "id": "large-organic",
   "metadata": {},
   "outputs": [],
   "source": [
    "df_train, df_val = train_test_split(df, test_size=0.2)"
   ]
  },
  {
   "cell_type": "markdown",
   "id": "dying-topic",
   "metadata": {},
   "source": [
    "And then make folds on train"
   ]
  },
  {
   "cell_type": "code",
   "execution_count": 31,
   "id": "complex-vault",
   "metadata": {},
   "outputs": [],
   "source": [
    "rkf = RepeatedKFold(n_splits=5, n_repeats=2, random_state=random_state)"
   ]
  },
  {
   "cell_type": "markdown",
   "id": "stock-homeless",
   "metadata": {},
   "source": [
    "Let's try first some linear models"
   ]
  },
  {
   "cell_type": "code",
   "execution_count": 50,
   "id": "herbal-aberdeen",
   "metadata": {},
   "outputs": [
    {
     "name": "stdout",
     "output_type": "stream",
     "text": [
      "train CV MSE:  0.014492156173981316\n",
      "train CV R2:  0.9049326565441852\n",
      "val MSE:  0.01842721894546382\n",
      "val R2:  0.8902312870184851\n"
     ]
    }
   ],
   "source": [
    "scaler = StandardScaler()\n",
    "model = Ridge(alpha=0.1)\n",
    "df_train = df_train.sort_index()\n",
    "y = df_train['SalePrice']\n",
    "X = df_train.drop('SalePrice', axis=1)\n",
    "mse_scores = {'cv': [], 'val': 0}\n",
    "r2_scores = {'cv': [], 'val': 0}\n",
    "\n",
    "for train, test in rkf.split(X, y):\n",
    "    y_train, y_test = y.iloc[train], y.iloc[test]\n",
    "    X_converted = eda.convert_features(pd.concat([X, y_train], axis=1)).drop('SalePrice', axis=1)\n",
    "    X_train, X_test = X_converted.iloc[train, :], X_converted.iloc[test, :]\n",
    "    X_train = scaler.fit_transform(X_train)\n",
    "    X_test = scaler.transform(X_test)\n",
    "    model.fit(X_train, y_train.values)\n",
    "    y_predict = model.predict(X_test)\n",
    "    mse_scores['cv'].append(mean_squared_error(y_test.values, y_predict))\n",
    "    r2_scores['cv'].append(r2_score(y_test.values, y_predict))\n",
    "print('train CV MSE: ', sum(mse_scores['cv'])/len(mse_scores['cv']))\n",
    "print('train CV R2: ', sum(r2_scores['cv'])/len(r2_scores['cv']))\n",
    "\n",
    "y_train, y_val = df_train['SalePrice'], df_val['SalePrice']\n",
    "X_converted = eda.convert_features(pd.concat([df.iloc[:, :-1], y_train], axis=1)).drop('SalePrice', axis=1)\n",
    "X_train, X_val = X_converted.loc[df_train.index, :], X_converted.loc[df_val.index, :]\n",
    "X_train = scaler.fit_transform(X_train)\n",
    "X_val = scaler.transform(X_val)\n",
    "model.fit(X_train, y_train.values)\n",
    "y_predict = model.predict(X_val)\n",
    "mse_scores['val'] = mean_squared_error(y_val.values, y_predict)\n",
    "r2_scores['val'] = r2_score(y_val.values, y_predict)\n",
    "print('val MSE: ', mse_scores['val'])\n",
    "print('val R2: ', r2_scores['val'])"
   ]
  },
  {
   "cell_type": "code",
   "execution_count": 52,
   "id": "rotary-africa",
   "metadata": {},
   "outputs": [
    {
     "data": {
      "image/png": "[encoded data removed]",
      "text/plain": [
       "<Figure size 360x360 with 6 Axes>"
      ]
     },
     "metadata": {
      "needs_background": "light"
     },
     "output_type": "display_data"
    }
   ],
   "source": [
    "sns.pairplot(data=pd.DataFrame({'test':y_val.values, 'predict':y_predict}));"
   ]
  }
 ],
 "metadata": {
  "kernelspec": {
   "display_name": "Python 3",
   "language": "python",
   "name": "python3"
  },
  "language_info": {
   "codemirror_mode": {
    "name": "ipython",
    "version": 3
   },
   "file_extension": ".py",
   "mimetype": "text/x-python",
   "name": "python",
   "nbconvert_exporter": "python",
   "pygments_lexer": "ipython3",
   "version": "3.9.2"
  }
 },
 "nbformat": 4,
 "nbformat_minor": 5
}
