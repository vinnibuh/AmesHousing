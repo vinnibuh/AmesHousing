{
 "cells": [
  {
   "cell_type": "code",
   "execution_count": 1,
   "id": "peaceful-introduction",
   "metadata": {},
   "outputs": [],
   "source": [
    "import pandas as pd\n",
    "import numpy as np\n",
    "import matplotlib.pyplot as plt\n",
    "import seaborn as sns\n",
    "from collections import defaultdict"
   ]
  },
  {
   "cell_type": "code",
   "execution_count": 2,
   "id": "french-expert",
   "metadata": {},
   "outputs": [],
   "source": [
    "path = './data/AmesHousing.txt'\n",
    "\n",
    "data = pd.read_table(path, index_col=0)"
   ]
  },
  {
   "cell_type": "code",
   "execution_count": 3,
   "id": "alone-tattoo",
   "metadata": {},
   "outputs": [
    {
     "data": {
      "text/html": [
       "<div>\n",
       "<style scoped>\n",
       "    .dataframe tbody tr th:only-of-type {\n",
       "        vertical-align: middle;\n",
       "    }\n",
       "\n",
       "    .dataframe tbody tr th {\n",
       "        vertical-align: top;\n",
       "    }\n",
       "\n",
       "    .dataframe thead th {\n",
       "        text-align: right;\n",
       "    }\n",
       "</style>\n",
       "<table border=\"1\" class=\"dataframe\">\n",
       "  <thead>\n",
       "    <tr style=\"text-align: right;\">\n",
       "      <th></th>\n",
       "      <th>PID</th>\n",
       "      <th>MS SubClass</th>\n",
       "      <th>MS Zoning</th>\n",
       "      <th>Lot Frontage</th>\n",
       "      <th>Lot Area</th>\n",
       "      <th>Street</th>\n",
       "      <th>Alley</th>\n",
       "      <th>Lot Shape</th>\n",
       "      <th>Land Contour</th>\n",
       "      <th>Utilities</th>\n",
       "      <th>...</th>\n",
       "      <th>Pool Area</th>\n",
       "      <th>Pool QC</th>\n",
       "      <th>Fence</th>\n",
       "      <th>Misc Feature</th>\n",
       "      <th>Misc Val</th>\n",
       "      <th>Mo Sold</th>\n",
       "      <th>Yr Sold</th>\n",
       "      <th>Sale Type</th>\n",
       "      <th>Sale Condition</th>\n",
       "      <th>SalePrice</th>\n",
       "    </tr>\n",
       "    <tr>\n",
       "      <th>Order</th>\n",
       "      <th></th>\n",
       "      <th></th>\n",
       "      <th></th>\n",
       "      <th></th>\n",
       "      <th></th>\n",
       "      <th></th>\n",
       "      <th></th>\n",
       "      <th></th>\n",
       "      <th></th>\n",
       "      <th></th>\n",
       "      <th></th>\n",
       "      <th></th>\n",
       "      <th></th>\n",
       "      <th></th>\n",
       "      <th></th>\n",
       "      <th></th>\n",
       "      <th></th>\n",
       "      <th></th>\n",
       "      <th></th>\n",
       "      <th></th>\n",
       "      <th></th>\n",
       "    </tr>\n",
       "  </thead>\n",
       "  <tbody>\n",
       "    <tr>\n",
       "      <th>1</th>\n",
       "      <td>526301100</td>\n",
       "      <td>20</td>\n",
       "      <td>RL</td>\n",
       "      <td>141.0</td>\n",
       "      <td>31770</td>\n",
       "      <td>Pave</td>\n",
       "      <td>NaN</td>\n",
       "      <td>IR1</td>\n",
       "      <td>Lvl</td>\n",
       "      <td>AllPub</td>\n",
       "      <td>...</td>\n",
       "      <td>0</td>\n",
       "      <td>NaN</td>\n",
       "      <td>NaN</td>\n",
       "      <td>NaN</td>\n",
       "      <td>0</td>\n",
       "      <td>5</td>\n",
       "      <td>2010</td>\n",
       "      <td>WD</td>\n",
       "      <td>Normal</td>\n",
       "      <td>215000</td>\n",
       "    </tr>\n",
       "    <tr>\n",
       "      <th>2</th>\n",
       "      <td>526350040</td>\n",
       "      <td>20</td>\n",
       "      <td>RH</td>\n",
       "      <td>80.0</td>\n",
       "      <td>11622</td>\n",
       "      <td>Pave</td>\n",
       "      <td>NaN</td>\n",
       "      <td>Reg</td>\n",
       "      <td>Lvl</td>\n",
       "      <td>AllPub</td>\n",
       "      <td>...</td>\n",
       "      <td>0</td>\n",
       "      <td>NaN</td>\n",
       "      <td>MnPrv</td>\n",
       "      <td>NaN</td>\n",
       "      <td>0</td>\n",
       "      <td>6</td>\n",
       "      <td>2010</td>\n",
       "      <td>WD</td>\n",
       "      <td>Normal</td>\n",
       "      <td>105000</td>\n",
       "    </tr>\n",
       "    <tr>\n",
       "      <th>3</th>\n",
       "      <td>526351010</td>\n",
       "      <td>20</td>\n",
       "      <td>RL</td>\n",
       "      <td>81.0</td>\n",
       "      <td>14267</td>\n",
       "      <td>Pave</td>\n",
       "      <td>NaN</td>\n",
       "      <td>IR1</td>\n",
       "      <td>Lvl</td>\n",
       "      <td>AllPub</td>\n",
       "      <td>...</td>\n",
       "      <td>0</td>\n",
       "      <td>NaN</td>\n",
       "      <td>NaN</td>\n",
       "      <td>Gar2</td>\n",
       "      <td>12500</td>\n",
       "      <td>6</td>\n",
       "      <td>2010</td>\n",
       "      <td>WD</td>\n",
       "      <td>Normal</td>\n",
       "      <td>172000</td>\n",
       "    </tr>\n",
       "    <tr>\n",
       "      <th>4</th>\n",
       "      <td>526353030</td>\n",
       "      <td>20</td>\n",
       "      <td>RL</td>\n",
       "      <td>93.0</td>\n",
       "      <td>11160</td>\n",
       "      <td>Pave</td>\n",
       "      <td>NaN</td>\n",
       "      <td>Reg</td>\n",
       "      <td>Lvl</td>\n",
       "      <td>AllPub</td>\n",
       "      <td>...</td>\n",
       "      <td>0</td>\n",
       "      <td>NaN</td>\n",
       "      <td>NaN</td>\n",
       "      <td>NaN</td>\n",
       "      <td>0</td>\n",
       "      <td>4</td>\n",
       "      <td>2010</td>\n",
       "      <td>WD</td>\n",
       "      <td>Normal</td>\n",
       "      <td>244000</td>\n",
       "    </tr>\n",
       "    <tr>\n",
       "      <th>5</th>\n",
       "      <td>527105010</td>\n",
       "      <td>60</td>\n",
       "      <td>RL</td>\n",
       "      <td>74.0</td>\n",
       "      <td>13830</td>\n",
       "      <td>Pave</td>\n",
       "      <td>NaN</td>\n",
       "      <td>IR1</td>\n",
       "      <td>Lvl</td>\n",
       "      <td>AllPub</td>\n",
       "      <td>...</td>\n",
       "      <td>0</td>\n",
       "      <td>NaN</td>\n",
       "      <td>MnPrv</td>\n",
       "      <td>NaN</td>\n",
       "      <td>0</td>\n",
       "      <td>3</td>\n",
       "      <td>2010</td>\n",
       "      <td>WD</td>\n",
       "      <td>Normal</td>\n",
       "      <td>189900</td>\n",
       "    </tr>\n",
       "  </tbody>\n",
       "</table>\n",
       "<p>5 rows × 81 columns</p>\n",
       "</div>"
      ],
      "text/plain": [
       "             PID  MS SubClass MS Zoning  Lot Frontage  Lot Area Street Alley  \\\n",
       "Order                                                                          \n",
       "1      526301100           20        RL         141.0     31770   Pave   NaN   \n",
       "2      526350040           20        RH          80.0     11622   Pave   NaN   \n",
       "3      526351010           20        RL          81.0     14267   Pave   NaN   \n",
       "4      526353030           20        RL          93.0     11160   Pave   NaN   \n",
       "5      527105010           60        RL          74.0     13830   Pave   NaN   \n",
       "\n",
       "      Lot Shape Land Contour Utilities  ... Pool Area Pool QC  Fence  \\\n",
       "Order                                   ...                            \n",
       "1           IR1          Lvl    AllPub  ...         0     NaN    NaN   \n",
       "2           Reg          Lvl    AllPub  ...         0     NaN  MnPrv   \n",
       "3           IR1          Lvl    AllPub  ...         0     NaN    NaN   \n",
       "4           Reg          Lvl    AllPub  ...         0     NaN    NaN   \n",
       "5           IR1          Lvl    AllPub  ...         0     NaN  MnPrv   \n",
       "\n",
       "      Misc Feature Misc Val Mo Sold Yr Sold  Sale Type  Sale Condition  \\\n",
       "Order                                                                    \n",
       "1              NaN        0       5    2010        WD           Normal   \n",
       "2              NaN        0       6    2010        WD           Normal   \n",
       "3             Gar2    12500       6    2010        WD           Normal   \n",
       "4              NaN        0       4    2010        WD           Normal   \n",
       "5              NaN        0       3    2010        WD           Normal   \n",
       "\n",
       "       SalePrice  \n",
       "Order             \n",
       "1         215000  \n",
       "2         105000  \n",
       "3         172000  \n",
       "4         244000  \n",
       "5         189900  \n",
       "\n",
       "[5 rows x 81 columns]"
      ]
     },
     "execution_count": 3,
     "metadata": {},
     "output_type": "execute_result"
    }
   ],
   "source": [
    "data.head(5)"
   ]
  },
  {
   "cell_type": "code",
   "execution_count": 4,
   "id": "miniature-wildlife",
   "metadata": {},
   "outputs": [
    {
     "data": {
      "text/plain": [
       "2930"
      ]
     },
     "execution_count": 4,
     "metadata": {},
     "output_type": "execute_result"
    }
   ],
   "source": [
    "data.shape[0]"
   ]
  },
  {
   "cell_type": "markdown",
   "id": "supported-quilt",
   "metadata": {},
   "source": [
    "According to kaggle description, this dataset doesn't contain any errors in data entries or physically impossible values, but still it's better to check at least date/time features."
   ]
  },
  {
   "cell_type": "code",
   "execution_count": 5,
   "id": "million-lithuania",
   "metadata": {},
   "outputs": [
    {
     "name": "stdout",
     "output_type": "stream",
     "text": [
      "Mo Sold             0\n",
      "Yr Sold             0\n",
      "Garage Yr Blt     159\n",
      "Year Built          0\n",
      "Year Remod/Add      0\n",
      "dtype: int64\n"
     ]
    }
   ],
   "source": [
    "time_feats = ['Mo Sold', 'Yr Sold', 'Garage Yr Blt', 'Year Built', 'Year Remod/Add']\n",
    "print(data[time_feats].isna().sum())"
   ]
  },
  {
   "cell_type": "code",
   "execution_count": 6,
   "id": "perceived-objective",
   "metadata": {},
   "outputs": [
    {
     "data": {
      "text/html": [
       "<div>\n",
       "<style scoped>\n",
       "    .dataframe tbody tr th:only-of-type {\n",
       "        vertical-align: middle;\n",
       "    }\n",
       "\n",
       "    .dataframe tbody tr th {\n",
       "        vertical-align: top;\n",
       "    }\n",
       "\n",
       "    .dataframe thead th {\n",
       "        text-align: right;\n",
       "    }\n",
       "</style>\n",
       "<table border=\"1\" class=\"dataframe\">\n",
       "  <thead>\n",
       "    <tr style=\"text-align: right;\">\n",
       "      <th></th>\n",
       "      <th>Mo Sold</th>\n",
       "      <th>Yr Sold</th>\n",
       "      <th>Garage Yr Blt</th>\n",
       "      <th>Year Built</th>\n",
       "      <th>Year Remod/Add</th>\n",
       "    </tr>\n",
       "  </thead>\n",
       "  <tbody>\n",
       "    <tr>\n",
       "      <th>count</th>\n",
       "      <td>2930.000000</td>\n",
       "      <td>2930.000000</td>\n",
       "      <td>2771.000000</td>\n",
       "      <td>2930.000000</td>\n",
       "      <td>2930.000000</td>\n",
       "    </tr>\n",
       "    <tr>\n",
       "      <th>mean</th>\n",
       "      <td>6.216041</td>\n",
       "      <td>2007.790444</td>\n",
       "      <td>1978.132443</td>\n",
       "      <td>1971.356314</td>\n",
       "      <td>1984.266553</td>\n",
       "    </tr>\n",
       "    <tr>\n",
       "      <th>std</th>\n",
       "      <td>2.714492</td>\n",
       "      <td>1.316613</td>\n",
       "      <td>25.528411</td>\n",
       "      <td>30.245361</td>\n",
       "      <td>20.860286</td>\n",
       "    </tr>\n",
       "    <tr>\n",
       "      <th>min</th>\n",
       "      <td>1.000000</td>\n",
       "      <td>2006.000000</td>\n",
       "      <td>1895.000000</td>\n",
       "      <td>1872.000000</td>\n",
       "      <td>1950.000000</td>\n",
       "    </tr>\n",
       "    <tr>\n",
       "      <th>25%</th>\n",
       "      <td>4.000000</td>\n",
       "      <td>2007.000000</td>\n",
       "      <td>1960.000000</td>\n",
       "      <td>1954.000000</td>\n",
       "      <td>1965.000000</td>\n",
       "    </tr>\n",
       "    <tr>\n",
       "      <th>50%</th>\n",
       "      <td>6.000000</td>\n",
       "      <td>2008.000000</td>\n",
       "      <td>1979.000000</td>\n",
       "      <td>1973.000000</td>\n",
       "      <td>1993.000000</td>\n",
       "    </tr>\n",
       "    <tr>\n",
       "      <th>75%</th>\n",
       "      <td>8.000000</td>\n",
       "      <td>2009.000000</td>\n",
       "      <td>2002.000000</td>\n",
       "      <td>2001.000000</td>\n",
       "      <td>2004.000000</td>\n",
       "    </tr>\n",
       "    <tr>\n",
       "      <th>max</th>\n",
       "      <td>12.000000</td>\n",
       "      <td>2010.000000</td>\n",
       "      <td>2207.000000</td>\n",
       "      <td>2010.000000</td>\n",
       "      <td>2010.000000</td>\n",
       "    </tr>\n",
       "  </tbody>\n",
       "</table>\n",
       "</div>"
      ],
      "text/plain": [
       "           Mo Sold      Yr Sold  Garage Yr Blt   Year Built  Year Remod/Add\n",
       "count  2930.000000  2930.000000    2771.000000  2930.000000     2930.000000\n",
       "mean      6.216041  2007.790444    1978.132443  1971.356314     1984.266553\n",
       "std       2.714492     1.316613      25.528411    30.245361       20.860286\n",
       "min       1.000000  2006.000000    1895.000000  1872.000000     1950.000000\n",
       "25%       4.000000  2007.000000    1960.000000  1954.000000     1965.000000\n",
       "50%       6.000000  2008.000000    1979.000000  1973.000000     1993.000000\n",
       "75%       8.000000  2009.000000    2002.000000  2001.000000     2004.000000\n",
       "max      12.000000  2010.000000    2207.000000  2010.000000     2010.000000"
      ]
     },
     "execution_count": 6,
     "metadata": {},
     "output_type": "execute_result"
    }
   ],
   "source": [
    "data[time_feats].describe()"
   ]
  },
  {
   "cell_type": "code",
   "execution_count": 7,
   "id": "determined-skiing",
   "metadata": {},
   "outputs": [
    {
     "data": {
      "text/plain": [
       "Order\n",
       "1555    1895.0\n",
       "308     1896.0\n",
       "2600    1900.0\n",
       "170     1900.0\n",
       "2636    1900.0\n",
       "         ...  \n",
       "105     2010.0\n",
       "39      2010.0\n",
       "317     2010.0\n",
       "46      2010.0\n",
       "2261    2207.0\n",
       "Name: Garage Yr Blt, Length: 2771, dtype: float64"
      ]
     },
     "execution_count": 7,
     "metadata": {},
     "output_type": "execute_result"
    }
   ],
   "source": [
    "data[data['Garage Yr Blt'].notna()]['Garage Yr Blt'].sort_values()"
   ]
  },
  {
   "cell_type": "markdown",
   "id": "closed-spring",
   "metadata": {},
   "source": [
    "We can see that there's one error in data entry for 'Garage Yr Built'. It should be dropped."
   ]
  },
  {
   "cell_type": "code",
   "execution_count": 8,
   "id": "democratic-norwegian",
   "metadata": {},
   "outputs": [],
   "source": [
    "data.drop(2261, inplace=True)"
   ]
  },
  {
   "cell_type": "markdown",
   "id": "exempt-solution",
   "metadata": {},
   "source": [
    "Feature 'PID' is useless"
   ]
  },
  {
   "cell_type": "code",
   "execution_count": 9,
   "id": "moral-large",
   "metadata": {},
   "outputs": [],
   "source": [
    "# drop column PID, it's useless\n",
    "data.drop('PID', axis=1, inplace=True)"
   ]
  },
  {
   "cell_type": "markdown",
   "id": "spanish-means",
   "metadata": {},
   "source": [
    "'MS SubClass' is in fact categorical feature, so let's change corresponding column type to 'object'"
   ]
  },
  {
   "cell_type": "code",
   "execution_count": 10,
   "id": "respected-elevation",
   "metadata": {},
   "outputs": [],
   "source": [
    "data['MS SubClass'] = data['MS SubClass'].astype('object')"
   ]
  },
  {
   "cell_type": "markdown",
   "id": "skilled-joseph",
   "metadata": {},
   "source": [
    "Let's look for outliers in histograms"
   ]
  },
  {
   "cell_type": "code",
   "execution_count": 11,
   "id": "direct-playback",
   "metadata": {},
   "outputs": [
    {
     "data": {
      "image/png": "[encoded data removed]",
      "text/plain": [
       "<Figure size 2160x2160 with 36 Axes>"
      ]
     },
     "metadata": {
      "needs_background": "light"
     },
     "output_type": "display_data"
    }
   ],
   "source": [
    "num_feats = data.select_dtypes(exclude='object')\n",
    "x = int(np.ceil(np.sqrt(num_feats.shape[1])))\n",
    "fig, axs = plt.subplots(x, x, figsize=(30,30))\n",
    "\n",
    "for idx, col in enumerate(num_feats.columns):\n",
    "    # sns.ecdfplot(x=col, data=data, ax=axs[idx//x, idx%x]);\n",
    "    sns.histplot(x=col, data=data, ax=axs[idx//x, idx%x], stat=\"count\");"
   ]
  },
  {
   "cell_type": "markdown",
   "id": "exotic-disorder",
   "metadata": {},
   "source": [
    "We can see that the tail of distribution of target varible is very heavy so it should be good to cut it using rule of 3 sigma. Also it seems reasonable to filter 'Garage Area', 'Lot Area', 'Total Bsmt SF', 'BsmtFin SF 1', 'BsmtFin SF 2', 'Misc Val', all kinds of porches, 'Pool Area', 'Misc Vals'."
   ]
  },
  {
   "cell_type": "code",
   "execution_count": 12,
   "id": "experimental-lyric",
   "metadata": {},
   "outputs": [],
   "source": [
    "cols_to_filter = ['SalePrice', 'Garage Area', 'Total Bsmt SF', \n",
    "                  'BsmtFin SF 1', 'BsmtFin SF 2', 'Misc Val',\n",
    "                  'Pool Area', 'Screen Porch', '3Ssn Porch',\n",
    "                  'Enclosed Porch', 'Open Porch SF', 'Wood Deck SF',\n",
    "                  'Lot Area', 'Lot Frontage']\n",
    "mask = data['SalePrice'] == data['SalePrice']\n",
    "for col in cols_to_filter:\n",
    "    threshold = data[col].quantile(0.997)\n",
    "    mask = mask & ~(data[col] > threshold)\n",
    "data = data.loc[mask, :]"
   ]
  },
  {
   "cell_type": "markdown",
   "id": "demonstrated-cross",
   "metadata": {},
   "source": [
    "Let's check if there are any redundant features"
   ]
  },
  {
   "cell_type": "code",
   "execution_count": 13,
   "id": "round-geneva",
   "metadata": {
    "scrolled": true
   },
   "outputs": [
    {
     "data": {
      "text/plain": [
       "Pool QC            2\n",
       "Misc Feature      89\n",
       "Alley            192\n",
       "Fence            545\n",
       "Fireplace Qu    1429\n",
       "                ... \n",
       "Central Air     2830\n",
       "1st Flr SF      2830\n",
       "2nd Flr SF      2830\n",
       "Gr Liv Area     2830\n",
       "SalePrice       2830\n",
       "Length: 80, dtype: int64"
      ]
     },
     "execution_count": 13,
     "metadata": {},
     "output_type": "execute_result"
    }
   ],
   "source": [
    "data.count().sort_values()"
   ]
  },
  {
   "cell_type": "markdown",
   "id": "close-sympathy",
   "metadata": {},
   "source": [
    "We have 3 features which have useful values in less than 10% of all entries. Probably it's best to drop them."
   ]
  },
  {
   "cell_type": "code",
   "execution_count": 14,
   "id": "burning-finnish",
   "metadata": {},
   "outputs": [],
   "source": [
    "data.drop(['Pool QC', 'Misc Feature', 'Alley'], axis=1, inplace=True)"
   ]
  },
  {
   "cell_type": "markdown",
   "id": "future-shock",
   "metadata": {},
   "source": [
    "Also let's check how many values differ from zero."
   ]
  },
  {
   "cell_type": "code",
   "execution_count": 15,
   "id": "sharp-placement",
   "metadata": {},
   "outputs": [
    {
     "data": {
      "text/plain": [
       "Lot Frontage       2929\n",
       "Lot Area           2929\n",
       "Overall Qual       2929\n",
       "Overall Cond       2929\n",
       "Year Built         2929\n",
       "Year Remod/Add     2929\n",
       "Mas Vnr Area       1181\n",
       "BsmtFin SF 1       1999\n",
       "BsmtFin SF 2        352\n",
       "Bsmt Unf SF        2685\n",
       "Total Bsmt SF      2850\n",
       "1st Flr SF         2929\n",
       "2nd Flr SF         1252\n",
       "Low Qual Fin SF      40\n",
       "Gr Liv Area        2929\n",
       "Bsmt Full Bath     1223\n",
       "Bsmt Half Bath      177\n",
       "Full Bath          2917\n",
       "Half Bath          1087\n",
       "Bedroom AbvGr      2921\n",
       "Kitchen AbvGr      2926\n",
       "TotRms AbvGrd      2929\n",
       "Fireplaces         1507\n",
       "Garage Yr Blt      2929\n",
       "Garage Cars        2772\n",
       "Garage Area        2772\n",
       "Wood Deck SF       1403\n",
       "Open Porch SF      1630\n",
       "Enclosed Porch      459\n",
       "3Ssn Porch           37\n",
       "Screen Porch        256\n",
       "Pool Area            13\n",
       "Misc Val            103\n",
       "Mo Sold            2929\n",
       "Yr Sold            2929\n",
       "SalePrice          2929\n",
       "dtype: int64"
      ]
     },
     "execution_count": 15,
     "metadata": {},
     "output_type": "execute_result"
    }
   ],
   "source": [
    "(num_feats!=0).sum()"
   ]
  },
  {
   "cell_type": "markdown",
   "id": "typical-amendment",
   "metadata": {},
   "source": [
    "We observe 3 features which values differ from zero in less than 2%. It's certainly good to drop them. Although, we'll leave for the time being column 'Low Qual Fin SF' since maybe it's part of the more complex feature."
   ]
  },
  {
   "cell_type": "code",
   "execution_count": 16,
   "id": "featured-socket",
   "metadata": {},
   "outputs": [],
   "source": [
    "data.drop(['3Ssn Porch', 'Pool Area'], axis=1, inplace=True)"
   ]
  },
  {
   "cell_type": "markdown",
   "id": "fundamental-chuck",
   "metadata": {},
   "source": [
    "Let's lower precision for speed purposes"
   ]
  },
  {
   "cell_type": "code",
   "execution_count": 17,
   "id": "neither-wholesale",
   "metadata": {},
   "outputs": [],
   "source": [
    "float_cols = data.select_dtypes(include='float64').columns\n",
    "int_cols = data.select_dtypes(include='int64').columns\n",
    "\n",
    "data.loc[:, float_cols] = data.loc[:, float_cols].astype('float32')\n",
    "data.loc[:, int_cols] = data.loc[:, int_cols].astype('int32')"
   ]
  },
  {
   "cell_type": "markdown",
   "id": "necessary-oxygen",
   "metadata": {},
   "source": [
    "Let's split our columns based on their type."
   ]
  },
  {
   "cell_type": "code",
   "execution_count": 18,
   "id": "vertical-necklace",
   "metadata": {},
   "outputs": [
    {
     "data": {
      "text/plain": [
       "dict_keys(['object', 'float32', 'int32'])"
      ]
     },
     "execution_count": 18,
     "metadata": {},
     "output_type": "execute_result"
    }
   ],
   "source": [
    "col_by_type = defaultdict(list)\n",
    "for index, value in data.dtypes.items():\n",
    "    col_by_type[str(value)].append(index)\n",
    "\n",
    "col_by_type.keys()"
   ]
  },
  {
   "cell_type": "markdown",
   "id": "nervous-advocacy",
   "metadata": {},
   "source": [
    "For all columns with 'object' dtype we'll fill their NaNs with 'missing' value and then convert to string"
   ]
  },
  {
   "cell_type": "code",
   "execution_count": 19,
   "id": "nutritional-pearl",
   "metadata": {},
   "outputs": [
    {
     "data": {
      "text/html": [
       "<div>\n",
       "<style scoped>\n",
       "    .dataframe tbody tr th:only-of-type {\n",
       "        vertical-align: middle;\n",
       "    }\n",
       "\n",
       "    .dataframe tbody tr th {\n",
       "        vertical-align: top;\n",
       "    }\n",
       "\n",
       "    .dataframe thead th {\n",
       "        text-align: right;\n",
       "    }\n",
       "</style>\n",
       "<table border=\"1\" class=\"dataframe\">\n",
       "  <thead>\n",
       "    <tr style=\"text-align: right;\">\n",
       "      <th></th>\n",
       "      <th>MS SubClass</th>\n",
       "      <th>MS Zoning</th>\n",
       "      <th>Lot Frontage</th>\n",
       "      <th>Lot Area</th>\n",
       "      <th>Street</th>\n",
       "      <th>Lot Shape</th>\n",
       "      <th>Land Contour</th>\n",
       "      <th>Utilities</th>\n",
       "      <th>Lot Config</th>\n",
       "      <th>Land Slope</th>\n",
       "      <th>...</th>\n",
       "      <th>Open Porch SF</th>\n",
       "      <th>Enclosed Porch</th>\n",
       "      <th>Screen Porch</th>\n",
       "      <th>Fence</th>\n",
       "      <th>Misc Val</th>\n",
       "      <th>Mo Sold</th>\n",
       "      <th>Yr Sold</th>\n",
       "      <th>Sale Type</th>\n",
       "      <th>Sale Condition</th>\n",
       "      <th>SalePrice</th>\n",
       "    </tr>\n",
       "    <tr>\n",
       "      <th>Order</th>\n",
       "      <th></th>\n",
       "      <th></th>\n",
       "      <th></th>\n",
       "      <th></th>\n",
       "      <th></th>\n",
       "      <th></th>\n",
       "      <th></th>\n",
       "      <th></th>\n",
       "      <th></th>\n",
       "      <th></th>\n",
       "      <th></th>\n",
       "      <th></th>\n",
       "      <th></th>\n",
       "      <th></th>\n",
       "      <th></th>\n",
       "      <th></th>\n",
       "      <th></th>\n",
       "      <th></th>\n",
       "      <th></th>\n",
       "      <th></th>\n",
       "      <th></th>\n",
       "    </tr>\n",
       "  </thead>\n",
       "  <tbody>\n",
       "    <tr>\n",
       "      <th>1</th>\n",
       "      <td>20</td>\n",
       "      <td>RL</td>\n",
       "      <td>141.0</td>\n",
       "      <td>31770</td>\n",
       "      <td>Pave</td>\n",
       "      <td>IR1</td>\n",
       "      <td>Lvl</td>\n",
       "      <td>AllPub</td>\n",
       "      <td>Corner</td>\n",
       "      <td>Gtl</td>\n",
       "      <td>...</td>\n",
       "      <td>62</td>\n",
       "      <td>0</td>\n",
       "      <td>0</td>\n",
       "      <td>missing</td>\n",
       "      <td>0</td>\n",
       "      <td>5</td>\n",
       "      <td>2010</td>\n",
       "      <td>WD</td>\n",
       "      <td>Normal</td>\n",
       "      <td>215000</td>\n",
       "    </tr>\n",
       "    <tr>\n",
       "      <th>2</th>\n",
       "      <td>20</td>\n",
       "      <td>RH</td>\n",
       "      <td>80.0</td>\n",
       "      <td>11622</td>\n",
       "      <td>Pave</td>\n",
       "      <td>Reg</td>\n",
       "      <td>Lvl</td>\n",
       "      <td>AllPub</td>\n",
       "      <td>Inside</td>\n",
       "      <td>Gtl</td>\n",
       "      <td>...</td>\n",
       "      <td>0</td>\n",
       "      <td>0</td>\n",
       "      <td>120</td>\n",
       "      <td>MnPrv</td>\n",
       "      <td>0</td>\n",
       "      <td>6</td>\n",
       "      <td>2010</td>\n",
       "      <td>WD</td>\n",
       "      <td>Normal</td>\n",
       "      <td>105000</td>\n",
       "    </tr>\n",
       "    <tr>\n",
       "      <th>4</th>\n",
       "      <td>20</td>\n",
       "      <td>RL</td>\n",
       "      <td>93.0</td>\n",
       "      <td>11160</td>\n",
       "      <td>Pave</td>\n",
       "      <td>Reg</td>\n",
       "      <td>Lvl</td>\n",
       "      <td>AllPub</td>\n",
       "      <td>Corner</td>\n",
       "      <td>Gtl</td>\n",
       "      <td>...</td>\n",
       "      <td>0</td>\n",
       "      <td>0</td>\n",
       "      <td>0</td>\n",
       "      <td>missing</td>\n",
       "      <td>0</td>\n",
       "      <td>4</td>\n",
       "      <td>2010</td>\n",
       "      <td>WD</td>\n",
       "      <td>Normal</td>\n",
       "      <td>244000</td>\n",
       "    </tr>\n",
       "    <tr>\n",
       "      <th>5</th>\n",
       "      <td>60</td>\n",
       "      <td>RL</td>\n",
       "      <td>74.0</td>\n",
       "      <td>13830</td>\n",
       "      <td>Pave</td>\n",
       "      <td>IR1</td>\n",
       "      <td>Lvl</td>\n",
       "      <td>AllPub</td>\n",
       "      <td>Inside</td>\n",
       "      <td>Gtl</td>\n",
       "      <td>...</td>\n",
       "      <td>34</td>\n",
       "      <td>0</td>\n",
       "      <td>0</td>\n",
       "      <td>MnPrv</td>\n",
       "      <td>0</td>\n",
       "      <td>3</td>\n",
       "      <td>2010</td>\n",
       "      <td>WD</td>\n",
       "      <td>Normal</td>\n",
       "      <td>189900</td>\n",
       "    </tr>\n",
       "    <tr>\n",
       "      <th>6</th>\n",
       "      <td>60</td>\n",
       "      <td>RL</td>\n",
       "      <td>78.0</td>\n",
       "      <td>9978</td>\n",
       "      <td>Pave</td>\n",
       "      <td>IR1</td>\n",
       "      <td>Lvl</td>\n",
       "      <td>AllPub</td>\n",
       "      <td>Inside</td>\n",
       "      <td>Gtl</td>\n",
       "      <td>...</td>\n",
       "      <td>36</td>\n",
       "      <td>0</td>\n",
       "      <td>0</td>\n",
       "      <td>missing</td>\n",
       "      <td>0</td>\n",
       "      <td>6</td>\n",
       "      <td>2010</td>\n",
       "      <td>WD</td>\n",
       "      <td>Normal</td>\n",
       "      <td>195500</td>\n",
       "    </tr>\n",
       "  </tbody>\n",
       "</table>\n",
       "<p>5 rows × 75 columns</p>\n",
       "</div>"
      ],
      "text/plain": [
       "      MS SubClass MS Zoning  Lot Frontage  Lot Area Street Lot Shape  \\\n",
       "Order                                                                  \n",
       "1              20        RL         141.0     31770   Pave       IR1   \n",
       "2              20        RH          80.0     11622   Pave       Reg   \n",
       "4              20        RL          93.0     11160   Pave       Reg   \n",
       "5              60        RL          74.0     13830   Pave       IR1   \n",
       "6              60        RL          78.0      9978   Pave       IR1   \n",
       "\n",
       "      Land Contour Utilities Lot Config Land Slope  ... Open Porch SF  \\\n",
       "Order                                               ...                 \n",
       "1              Lvl    AllPub     Corner        Gtl  ...            62   \n",
       "2              Lvl    AllPub     Inside        Gtl  ...             0   \n",
       "4              Lvl    AllPub     Corner        Gtl  ...             0   \n",
       "5              Lvl    AllPub     Inside        Gtl  ...            34   \n",
       "6              Lvl    AllPub     Inside        Gtl  ...            36   \n",
       "\n",
       "      Enclosed Porch Screen Porch    Fence Misc Val  Mo Sold  Yr Sold  \\\n",
       "Order                                                                   \n",
       "1                  0            0  missing        0        5     2010   \n",
       "2                  0          120    MnPrv        0        6     2010   \n",
       "4                  0            0  missing        0        4     2010   \n",
       "5                  0            0    MnPrv        0        3     2010   \n",
       "6                  0            0  missing        0        6     2010   \n",
       "\n",
       "       Sale Type  Sale Condition SalePrice  \n",
       "Order                                       \n",
       "1            WD           Normal    215000  \n",
       "2            WD           Normal    105000  \n",
       "4            WD           Normal    244000  \n",
       "5            WD           Normal    189900  \n",
       "6            WD           Normal    195500  \n",
       "\n",
       "[5 rows x 75 columns]"
      ]
     },
     "execution_count": 19,
     "metadata": {},
     "output_type": "execute_result"
    }
   ],
   "source": [
    "cat_feats = col_by_type['object']\n",
    "\n",
    "data.loc[:, cat_feats] = data.loc[:, cat_feats].fillna('missing').astype('string')\n",
    "data.head()"
   ]
  },
  {
   "cell_type": "markdown",
   "id": "municipal-oxygen",
   "metadata": {},
   "source": [
    "For columns with 'float32' and 'int32' we'll first inspect unique values, taking into account their total count"
   ]
  },
  {
   "cell_type": "code",
   "execution_count": 20,
   "id": "demonstrated-mother",
   "metadata": {},
   "outputs": [
    {
     "data": {
      "text/plain": [
       "Lot Frontage       122\n",
       "Mas Vnr Area       429\n",
       "BsmtFin SF 1       965\n",
       "BsmtFin SF 2       256\n",
       "Bsmt Unf SF       1113\n",
       "Total Bsmt SF     1022\n",
       "Bsmt Full Bath       4\n",
       "Bsmt Half Bath       3\n",
       "Garage Yr Blt      102\n",
       "Garage Cars          6\n",
       "Garage Area        579\n",
       "dtype: int64"
      ]
     },
     "execution_count": 20,
     "metadata": {},
     "output_type": "execute_result"
    }
   ],
   "source": [
    "float_cols = col_by_type['float32']\n",
    "val_counts_float_cols = data[float_cols].nunique()\n",
    "val_counts_float_cols"
   ]
  },
  {
   "cell_type": "code",
   "execution_count": 21,
   "id": "educational-generation",
   "metadata": {},
   "outputs": [
    {
     "name": "stdout",
     "output_type": "stream",
     "text": [
      "Bsmt Full Bath:  [ 1.  0.  2.  3. nan]\n",
      "Bsmt Half Bath:  [ 0.  1. nan  2.]\n",
      "Garage Cars:  [ 2.  1.  3.  0.  4.  5. nan]\n"
     ]
    }
   ],
   "source": [
    "few_unique_vals = val_counts_float_cols[val_counts_float_cols<=10].index\n",
    "many_unique_vals = val_counts_float_cols[val_counts_float_cols>10].index\n",
    "\n",
    "for col in few_unique_vals:\n",
    "    print(col + ': ', data[col].unique())"
   ]
  },
  {
   "cell_type": "code",
   "execution_count": 22,
   "id": "furnished-breeding",
   "metadata": {},
   "outputs": [
    {
     "data": {
      "image/png": "[encoded data removed]",
      "text/plain": [
       "<Figure size 720x720 with 4 Axes>"
      ]
     },
     "metadata": {
      "needs_background": "light"
     },
     "output_type": "display_data"
    }
   ],
   "source": [
    "data[few_unique_vals].hist(figsize=(10, 10));"
   ]
  },
  {
   "cell_type": "markdown",
   "id": "directed-apple",
   "metadata": {},
   "source": [
    "As we can see, these features are in fact integer features with few unique values, so probably it would be best to fill their values with median to preserve data structure"
   ]
  },
  {
   "cell_type": "code",
   "execution_count": 23,
   "id": "oriental-advocate",
   "metadata": {},
   "outputs": [],
   "source": [
    "data[few_unique_vals] = data[few_unique_vals].fillna(data.median()).astype('int32')"
   ]
  },
  {
   "cell_type": "code",
   "execution_count": 24,
   "id": "wound-satisfaction",
   "metadata": {},
   "outputs": [],
   "source": [
    "for col in few_unique_vals:\n",
    "    col_by_type['float32'].remove(col)\n",
    "    col_by_type['int32'].append(col)"
   ]
  },
  {
   "cell_type": "markdown",
   "id": "educated-speech",
   "metadata": {},
   "source": [
    "For other 'float32' features we'll use mean values to fill NaNs"
   ]
  },
  {
   "cell_type": "code",
   "execution_count": 25,
   "id": "sapphire-combine",
   "metadata": {},
   "outputs": [],
   "source": [
    "data[many_unique_vals] = data[many_unique_vals].fillna(data.mean())"
   ]
  },
  {
   "cell_type": "markdown",
   "id": "alpha-graduate",
   "metadata": {},
   "source": [
    "For 'int32' we'll also fill NaNs with medians for features with low count of unique values\\\n",
    "Others we'll fill with means"
   ]
  },
  {
   "cell_type": "code",
   "execution_count": 26,
   "id": "decreased-discovery",
   "metadata": {},
   "outputs": [
    {
     "data": {
      "text/plain": [
       "Lot Area           1889\n",
       "Overall Qual         10\n",
       "Overall Cond          9\n",
       "Year Built          117\n",
       "Year Remod/Add       61\n",
       "1st Flr SF         1046\n",
       "2nd Flr SF          610\n",
       "Low Qual Fin SF      33\n",
       "Gr Liv Area        1246\n",
       "Full Bath             5\n",
       "Half Bath             3\n",
       "Bedroom AbvGr         8\n",
       "Kitchen AbvGr         4\n",
       "TotRms AbvGrd        13\n",
       "Fireplaces            4\n",
       "Wood Deck SF        357\n",
       "Open Porch SF       239\n",
       "Enclosed Porch      171\n",
       "Screen Porch        110\n",
       "Misc Val             28\n",
       "Mo Sold              12\n",
       "Yr Sold               5\n",
       "SalePrice           998\n",
       "dtype: int64"
      ]
     },
     "execution_count": 26,
     "metadata": {},
     "output_type": "execute_result"
    }
   ],
   "source": [
    "int_cols = col_by_type['int32'][:-3]\n",
    "val_counts_int_cols = data[int_cols].nunique()\n",
    "val_counts_int_cols"
   ]
  },
  {
   "cell_type": "code",
   "execution_count": 27,
   "id": "elect-commission",
   "metadata": {},
   "outputs": [],
   "source": [
    "few_unique_vals = val_counts_int_cols[val_counts_int_cols<=10].index\n",
    "many_unique_vals = val_counts_int_cols[val_counts_int_cols>10].index\n",
    "\n",
    "data[few_unique_vals] = data[few_unique_vals].fillna(data.median())\n",
    "data[many_unique_vals] = data[many_unique_vals].fillna(data.mean())"
   ]
  },
  {
   "cell_type": "code",
   "execution_count": 28,
   "id": "present-yugoslavia",
   "metadata": {},
   "outputs": [
    {
     "data": {
      "text/html": [
       "<div>\n",
       "<style scoped>\n",
       "    .dataframe tbody tr th:only-of-type {\n",
       "        vertical-align: middle;\n",
       "    }\n",
       "\n",
       "    .dataframe tbody tr th {\n",
       "        vertical-align: top;\n",
       "    }\n",
       "\n",
       "    .dataframe thead th {\n",
       "        text-align: right;\n",
       "    }\n",
       "</style>\n",
       "<table border=\"1\" class=\"dataframe\">\n",
       "  <thead>\n",
       "    <tr style=\"text-align: right;\">\n",
       "      <th></th>\n",
       "      <th>MS SubClass</th>\n",
       "      <th>MS Zoning</th>\n",
       "      <th>Lot Frontage</th>\n",
       "      <th>Lot Area</th>\n",
       "      <th>Street</th>\n",
       "      <th>Lot Shape</th>\n",
       "      <th>Land Contour</th>\n",
       "      <th>Utilities</th>\n",
       "      <th>Lot Config</th>\n",
       "      <th>Land Slope</th>\n",
       "      <th>...</th>\n",
       "      <th>Open Porch SF</th>\n",
       "      <th>Enclosed Porch</th>\n",
       "      <th>Screen Porch</th>\n",
       "      <th>Fence</th>\n",
       "      <th>Misc Val</th>\n",
       "      <th>Mo Sold</th>\n",
       "      <th>Yr Sold</th>\n",
       "      <th>Sale Type</th>\n",
       "      <th>Sale Condition</th>\n",
       "      <th>SalePrice</th>\n",
       "    </tr>\n",
       "    <tr>\n",
       "      <th>Order</th>\n",
       "      <th></th>\n",
       "      <th></th>\n",
       "      <th></th>\n",
       "      <th></th>\n",
       "      <th></th>\n",
       "      <th></th>\n",
       "      <th></th>\n",
       "      <th></th>\n",
       "      <th></th>\n",
       "      <th></th>\n",
       "      <th></th>\n",
       "      <th></th>\n",
       "      <th></th>\n",
       "      <th></th>\n",
       "      <th></th>\n",
       "      <th></th>\n",
       "      <th></th>\n",
       "      <th></th>\n",
       "      <th></th>\n",
       "      <th></th>\n",
       "      <th></th>\n",
       "    </tr>\n",
       "  </thead>\n",
       "  <tbody>\n",
       "    <tr>\n",
       "      <th>1</th>\n",
       "      <td>20</td>\n",
       "      <td>RL</td>\n",
       "      <td>141.0</td>\n",
       "      <td>31770</td>\n",
       "      <td>Pave</td>\n",
       "      <td>IR1</td>\n",
       "      <td>Lvl</td>\n",
       "      <td>AllPub</td>\n",
       "      <td>Corner</td>\n",
       "      <td>Gtl</td>\n",
       "      <td>...</td>\n",
       "      <td>62</td>\n",
       "      <td>0</td>\n",
       "      <td>0</td>\n",
       "      <td>missing</td>\n",
       "      <td>0</td>\n",
       "      <td>5</td>\n",
       "      <td>2010</td>\n",
       "      <td>WD</td>\n",
       "      <td>Normal</td>\n",
       "      <td>215000</td>\n",
       "    </tr>\n",
       "    <tr>\n",
       "      <th>2</th>\n",
       "      <td>20</td>\n",
       "      <td>RH</td>\n",
       "      <td>80.0</td>\n",
       "      <td>11622</td>\n",
       "      <td>Pave</td>\n",
       "      <td>Reg</td>\n",
       "      <td>Lvl</td>\n",
       "      <td>AllPub</td>\n",
       "      <td>Inside</td>\n",
       "      <td>Gtl</td>\n",
       "      <td>...</td>\n",
       "      <td>0</td>\n",
       "      <td>0</td>\n",
       "      <td>120</td>\n",
       "      <td>MnPrv</td>\n",
       "      <td>0</td>\n",
       "      <td>6</td>\n",
       "      <td>2010</td>\n",
       "      <td>WD</td>\n",
       "      <td>Normal</td>\n",
       "      <td>105000</td>\n",
       "    </tr>\n",
       "    <tr>\n",
       "      <th>4</th>\n",
       "      <td>20</td>\n",
       "      <td>RL</td>\n",
       "      <td>93.0</td>\n",
       "      <td>11160</td>\n",
       "      <td>Pave</td>\n",
       "      <td>Reg</td>\n",
       "      <td>Lvl</td>\n",
       "      <td>AllPub</td>\n",
       "      <td>Corner</td>\n",
       "      <td>Gtl</td>\n",
       "      <td>...</td>\n",
       "      <td>0</td>\n",
       "      <td>0</td>\n",
       "      <td>0</td>\n",
       "      <td>missing</td>\n",
       "      <td>0</td>\n",
       "      <td>4</td>\n",
       "      <td>2010</td>\n",
       "      <td>WD</td>\n",
       "      <td>Normal</td>\n",
       "      <td>244000</td>\n",
       "    </tr>\n",
       "    <tr>\n",
       "      <th>5</th>\n",
       "      <td>60</td>\n",
       "      <td>RL</td>\n",
       "      <td>74.0</td>\n",
       "      <td>13830</td>\n",
       "      <td>Pave</td>\n",
       "      <td>IR1</td>\n",
       "      <td>Lvl</td>\n",
       "      <td>AllPub</td>\n",
       "      <td>Inside</td>\n",
       "      <td>Gtl</td>\n",
       "      <td>...</td>\n",
       "      <td>34</td>\n",
       "      <td>0</td>\n",
       "      <td>0</td>\n",
       "      <td>MnPrv</td>\n",
       "      <td>0</td>\n",
       "      <td>3</td>\n",
       "      <td>2010</td>\n",
       "      <td>WD</td>\n",
       "      <td>Normal</td>\n",
       "      <td>189900</td>\n",
       "    </tr>\n",
       "    <tr>\n",
       "      <th>6</th>\n",
       "      <td>60</td>\n",
       "      <td>RL</td>\n",
       "      <td>78.0</td>\n",
       "      <td>9978</td>\n",
       "      <td>Pave</td>\n",
       "      <td>IR1</td>\n",
       "      <td>Lvl</td>\n",
       "      <td>AllPub</td>\n",
       "      <td>Inside</td>\n",
       "      <td>Gtl</td>\n",
       "      <td>...</td>\n",
       "      <td>36</td>\n",
       "      <td>0</td>\n",
       "      <td>0</td>\n",
       "      <td>missing</td>\n",
       "      <td>0</td>\n",
       "      <td>6</td>\n",
       "      <td>2010</td>\n",
       "      <td>WD</td>\n",
       "      <td>Normal</td>\n",
       "      <td>195500</td>\n",
       "    </tr>\n",
       "  </tbody>\n",
       "</table>\n",
       "<p>5 rows × 75 columns</p>\n",
       "</div>"
      ],
      "text/plain": [
       "      MS SubClass MS Zoning  Lot Frontage  Lot Area Street Lot Shape  \\\n",
       "Order                                                                  \n",
       "1              20        RL         141.0     31770   Pave       IR1   \n",
       "2              20        RH          80.0     11622   Pave       Reg   \n",
       "4              20        RL          93.0     11160   Pave       Reg   \n",
       "5              60        RL          74.0     13830   Pave       IR1   \n",
       "6              60        RL          78.0      9978   Pave       IR1   \n",
       "\n",
       "      Land Contour Utilities Lot Config Land Slope  ... Open Porch SF  \\\n",
       "Order                                               ...                 \n",
       "1              Lvl    AllPub     Corner        Gtl  ...            62   \n",
       "2              Lvl    AllPub     Inside        Gtl  ...             0   \n",
       "4              Lvl    AllPub     Corner        Gtl  ...             0   \n",
       "5              Lvl    AllPub     Inside        Gtl  ...            34   \n",
       "6              Lvl    AllPub     Inside        Gtl  ...            36   \n",
       "\n",
       "      Enclosed Porch Screen Porch    Fence Misc Val  Mo Sold  Yr Sold  \\\n",
       "Order                                                                   \n",
       "1                  0            0  missing        0        5     2010   \n",
       "2                  0          120    MnPrv        0        6     2010   \n",
       "4                  0            0  missing        0        4     2010   \n",
       "5                  0            0    MnPrv        0        3     2010   \n",
       "6                  0            0  missing        0        6     2010   \n",
       "\n",
       "       Sale Type  Sale Condition SalePrice  \n",
       "Order                                       \n",
       "1            WD           Normal    215000  \n",
       "2            WD           Normal    105000  \n",
       "4            WD           Normal    244000  \n",
       "5            WD           Normal    189900  \n",
       "6            WD           Normal    195500  \n",
       "\n",
       "[5 rows x 75 columns]"
      ]
     },
     "execution_count": 28,
     "metadata": {},
     "output_type": "execute_result"
    }
   ],
   "source": [
    "data.head()"
   ]
  },
  {
   "cell_type": "code",
   "execution_count": 29,
   "id": "opposed-fighter",
   "metadata": {},
   "outputs": [
    {
     "data": {
      "text/plain": [
       "(2830, 75)"
      ]
     },
     "execution_count": 29,
     "metadata": {},
     "output_type": "execute_result"
    }
   ],
   "source": [
    "data.shape"
   ]
  }
 ],
 "metadata": {
  "kernelspec": {
   "display_name": "Python 3",
   "language": "python",
   "name": "python3"
  },
  "language_info": {
   "codemirror_mode": {
    "name": "ipython",
    "version": 3
   },
   "file_extension": ".py",
   "mimetype": "text/x-python",
   "name": "python",
   "nbconvert_exporter": "python",
   "pygments_lexer": "ipython3",
   "version": "3.9.2"
  }
 },
 "nbformat": 4,
 "nbformat_minor": 5
}
